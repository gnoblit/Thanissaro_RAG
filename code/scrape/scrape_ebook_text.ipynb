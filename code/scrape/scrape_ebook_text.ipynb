{
 "cells": [
  {
   "cell_type": "code",
   "execution_count": 2,
   "metadata": {},
   "outputs": [],
   "source": [
    "import os\n",
    "import git\n",
    "import glob\n",
    "\n",
    "from bs4 import BeautifulSoup\n",
    "import ebooklib\n",
    "from ebooklib import epub\n"
   ]
  },
  {
   "cell_type": "code",
   "execution_count": 3,
   "metadata": {},
   "outputs": [],
   "source": [
    "# Get file paths for ebooks\n",
    "git_repo = git.Repo(os.getcwd(), search_parent_directories=True)\n",
    "git_root = git_repo.git.rev_parse(\"--show-toplevel\")\n",
    "epub_path = git_root + \"/\" + \"data/epubs\"\n",
    "\n",
    "file_paths = [ file_name for file_name in glob.glob(epub_path + \"/\" + \"*.epub\")]"
   ]
  },
  {
   "cell_type": "code",
   "execution_count": null,
   "metadata": {},
   "outputs": [
    {
     "ename": "SyntaxError",
     "evalue": "cannot assign to literal here. Maybe you meant '==' instead of '='? (2698909423.py, line 28)",
     "output_type": "error",
     "traceback": [
      "\u001b[0;36m  Cell \u001b[0;32mIn[4], line 28\u001b[0;36m\u001b[0m\n\u001b[0;31m    'author'=author,\u001b[0m\n\u001b[0m    ^\u001b[0m\n\u001b[0;31mSyntaxError\u001b[0m\u001b[0;31m:\u001b[0m cannot assign to literal here. Maybe you meant '==' instead of '='?\n"
     ]
    }
   ],
   "source": [
    "# Deinfe list to hold books\n",
    "book_dicts = []\n",
    "# Read in each book file path\n",
    "for book_path_ in file_paths:\n",
    "    # Define author\n",
    "    author = book_path_.split(\"_\")[-1].split(\".\")[0]\n",
    "    book_with_author = book_path_.split(\"/\")[-1].split(\".\")[0]\n",
    "    if len(book_with_author.split(\"_\") == 3):\n",
    "        title = book_with_author.split(\"_\")[0] + \"_\" + book_with_author.split(\"_\")[1]\n",
    "    else:\n",
    "        title = book_with_author.split(\"_\")[0]\n",
    "\n",
    "    # Open each ebook\n",
    "    book = epub.read_epub(book_path_)\n",
    "\n",
    "    # Init empty string to append to\n",
    "    book_text = ''\n",
    "\n",
    "    # Loop through each item in the epub to pull into string\n",
    "    for item in book.get_items():\n",
    "        if item.get_type == epub.ITEM_DOCUMENT:\n",
    "            soup = BeautifulSoup(item.get_body_content(), \"html_parser\")\n",
    "            book_text += soup.get_text()\n",
    "    \n",
    "        # Append dictionary of text with author and title to list of books\n",
    "        book_dicts.append(\n",
    "            {\n",
    "                'author':author,\n",
    "                'title':title,\n",
    "                'all_text':book_text,\n",
    "            }\n",
    "        )"
   ]
  },
  {
   "cell_type": "code",
   "execution_count": 42,
   "metadata": {},
   "outputs": [
    {
     "data": {
      "text/plain": [
       "[<ebooklib.epub.EpubHtml at 0x7f984152c5b0>,\n",
       " <ebooklib.epub.EpubHtml at 0x7f985ce50d30>,\n",
       " <ebooklib.epub.EpubHtml at 0x7f985ce53400>,\n",
       " <ebooklib.epub.EpubHtml at 0x7f985ce53220>,\n",
       " <ebooklib.epub.EpubHtml at 0x7f985ce52b90>,\n",
       " <ebooklib.epub.EpubHtml at 0x7f985ce52f50>,\n",
       " <ebooklib.epub.EpubHtml at 0x7f985ce52890>,\n",
       " <ebooklib.epub.EpubHtml at 0x7f985ce53790>,\n",
       " <ebooklib.epub.EpubHtml at 0x7f9841543f10>,\n",
       " <ebooklib.epub.EpubHtml at 0x7f985ce50e20>,\n",
       " <ebooklib.epub.EpubNcx at 0x7f985ce501c0>,\n",
       " <ebooklib.epub.EpubItem at 0x7f985ce53dc0>,\n",
       " <ebooklib.epub.EpubImage at 0x7f9840a5a650>,\n",
       " <ebooklib.epub.EpubItem at 0x7f9840a5ad10>,\n",
       " <ebooklib.epub.EpubItem at 0x7f9840a5acb0>,\n",
       " <ebooklib.epub.EpubItem at 0x7f9840a5a680>,\n",
       " <ebooklib.epub.EpubItem at 0x7f9840a5a710>]"
      ]
     },
     "execution_count": 42,
     "metadata": {},
     "output_type": "execute_result"
    }
   ],
   "source": [
    "list(book_dicts[0].get_items())"
   ]
  },
  {
   "cell_type": "code",
   "execution_count": 31,
   "metadata": {},
   "outputs": [
    {
     "data": {
      "text/plain": [
       "''"
      ]
     },
     "execution_count": 31,
     "metadata": {},
     "output_type": "execute_result"
    }
   ],
   "source": [
    "os.path.dirname(\".gitignore\")"
   ]
  },
  {
   "cell_type": "code",
   "execution_count": null,
   "metadata": {},
   "outputs": [],
   "source": [
    "/home/graham/projects/buddhism/Thanissaro_RAG/data/epubs"
   ]
  }
 ],
 "metadata": {
  "kernelspec": {
   "display_name": "venv_thanissaro_rag",
   "language": "python",
   "name": "python3"
  },
  "language_info": {
   "codemirror_mode": {
    "name": "ipython",
    "version": 3
   },
   "file_extension": ".py",
   "mimetype": "text/x-python",
   "name": "python",
   "nbconvert_exporter": "python",
   "pygments_lexer": "ipython3",
   "version": "3.10.12"
  }
 },
 "nbformat": 4,
 "nbformat_minor": 2
}
